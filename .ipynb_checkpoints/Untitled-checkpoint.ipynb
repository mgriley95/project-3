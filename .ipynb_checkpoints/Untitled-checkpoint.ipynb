{
 "cells": [
  {
   "cell_type": "code",
   "execution_count": 1,
   "id": "c6f03764",
   "metadata": {},
   "outputs": [],
   "source": [
    "import os"
   ]
  },
  {
   "cell_type": "code",
   "execution_count": 23,
   "id": "e2c56211",
   "metadata": {},
   "outputs": [
    {
     "data": {
      "text/plain": [
       "['.DS_Store',\n",
       " 'date.csv',\n",
       " 'Untitled.ipynb',\n",
       " 'NYPD_shooting.csv',\n",
       " 'geolocation.csv',\n",
       " 'Sample.csv',\n",
       " 'NYPD_date.csv',\n",
       " 'README.md',\n",
       " '.ipynb_checkpoints',\n",
       " '.git',\n",
       " 'project_three.sql',\n",
       " 'NYPD_geolocation.csv']"
      ]
     },
     "execution_count": 23,
     "metadata": {},
     "output_type": "execute_result"
    }
   ],
   "source": [
    "os.listdir('.')"
   ]
  },
  {
   "cell_type": "code",
   "execution_count": 3,
   "id": "8869fcdd",
   "metadata": {},
   "outputs": [],
   "source": [
    "import pandas as pd"
   ]
  },
  {
   "cell_type": "code",
   "execution_count": 4,
   "id": "e859aadb",
   "metadata": {},
   "outputs": [],
   "source": [
    "nypd_df = pd.read_csv('NYPD_shooting.csv')"
   ]
  },
  {
   "cell_type": "code",
   "execution_count": 5,
   "id": "589bbb3f",
   "metadata": {},
   "outputs": [
    {
     "data": {
      "text/html": [
       "<div>\n",
       "<style scoped>\n",
       "    .dataframe tbody tr th:only-of-type {\n",
       "        vertical-align: middle;\n",
       "    }\n",
       "\n",
       "    .dataframe tbody tr th {\n",
       "        vertical-align: top;\n",
       "    }\n",
       "\n",
       "    .dataframe thead th {\n",
       "        text-align: right;\n",
       "    }\n",
       "</style>\n",
       "<table border=\"1\" class=\"dataframe\">\n",
       "  <thead>\n",
       "    <tr style=\"text-align: right;\">\n",
       "      <th></th>\n",
       "      <th>INCIDENT_KEY</th>\n",
       "      <th>BORO</th>\n",
       "      <th>LOC_OF_OCCUR_DESC</th>\n",
       "      <th>PRECINCT</th>\n",
       "      <th>JURISDICTION_CODE</th>\n",
       "      <th>LOC_CLASSFCTN_DESC</th>\n",
       "      <th>LOCATION_DESC</th>\n",
       "      <th>STATISTICAL_MURDER_FLAG</th>\n",
       "      <th>PERP_AGE_GROUP</th>\n",
       "      <th>PERP_SEX</th>\n",
       "      <th>PERP_RACE</th>\n",
       "      <th>VIC_AGE_GROUP</th>\n",
       "      <th>VIC_SEX</th>\n",
       "      <th>VIC_RACE</th>\n",
       "    </tr>\n",
       "  </thead>\n",
       "  <tbody>\n",
       "    <tr>\n",
       "      <th>0</th>\n",
       "      <td>228798151</td>\n",
       "      <td>QUEENS</td>\n",
       "      <td>NaN</td>\n",
       "      <td>105</td>\n",
       "      <td>0.0</td>\n",
       "      <td>NaN</td>\n",
       "      <td>NaN</td>\n",
       "      <td>False</td>\n",
       "      <td>NaN</td>\n",
       "      <td>NaN</td>\n",
       "      <td>NaN</td>\n",
       "      <td>18-24</td>\n",
       "      <td>M</td>\n",
       "      <td>BLACK</td>\n",
       "    </tr>\n",
       "    <tr>\n",
       "      <th>1</th>\n",
       "      <td>137471050</td>\n",
       "      <td>BRONX</td>\n",
       "      <td>NaN</td>\n",
       "      <td>40</td>\n",
       "      <td>0.0</td>\n",
       "      <td>NaN</td>\n",
       "      <td>NaN</td>\n",
       "      <td>False</td>\n",
       "      <td>NaN</td>\n",
       "      <td>NaN</td>\n",
       "      <td>NaN</td>\n",
       "      <td>18-24</td>\n",
       "      <td>M</td>\n",
       "      <td>BLACK</td>\n",
       "    </tr>\n",
       "    <tr>\n",
       "      <th>2</th>\n",
       "      <td>147998800</td>\n",
       "      <td>QUEENS</td>\n",
       "      <td>NaN</td>\n",
       "      <td>108</td>\n",
       "      <td>0.0</td>\n",
       "      <td>NaN</td>\n",
       "      <td>NaN</td>\n",
       "      <td>True</td>\n",
       "      <td>NaN</td>\n",
       "      <td>NaN</td>\n",
       "      <td>NaN</td>\n",
       "      <td>25-44</td>\n",
       "      <td>M</td>\n",
       "      <td>WHITE</td>\n",
       "    </tr>\n",
       "    <tr>\n",
       "      <th>3</th>\n",
       "      <td>146837977</td>\n",
       "      <td>BRONX</td>\n",
       "      <td>NaN</td>\n",
       "      <td>44</td>\n",
       "      <td>0.0</td>\n",
       "      <td>NaN</td>\n",
       "      <td>NaN</td>\n",
       "      <td>False</td>\n",
       "      <td>NaN</td>\n",
       "      <td>NaN</td>\n",
       "      <td>NaN</td>\n",
       "      <td>&lt;18</td>\n",
       "      <td>M</td>\n",
       "      <td>WHITE HISPANIC</td>\n",
       "    </tr>\n",
       "    <tr>\n",
       "      <th>4</th>\n",
       "      <td>58921844</td>\n",
       "      <td>BRONX</td>\n",
       "      <td>NaN</td>\n",
       "      <td>47</td>\n",
       "      <td>0.0</td>\n",
       "      <td>NaN</td>\n",
       "      <td>NaN</td>\n",
       "      <td>True</td>\n",
       "      <td>25-44</td>\n",
       "      <td>M</td>\n",
       "      <td>BLACK</td>\n",
       "      <td>45-64</td>\n",
       "      <td>M</td>\n",
       "      <td>BLACK</td>\n",
       "    </tr>\n",
       "    <tr>\n",
       "      <th>...</th>\n",
       "      <td>...</td>\n",
       "      <td>...</td>\n",
       "      <td>...</td>\n",
       "      <td>...</td>\n",
       "      <td>...</td>\n",
       "      <td>...</td>\n",
       "      <td>...</td>\n",
       "      <td>...</td>\n",
       "      <td>...</td>\n",
       "      <td>...</td>\n",
       "      <td>...</td>\n",
       "      <td>...</td>\n",
       "      <td>...</td>\n",
       "      <td>...</td>\n",
       "    </tr>\n",
       "    <tr>\n",
       "      <th>27307</th>\n",
       "      <td>245029823</td>\n",
       "      <td>BRONX</td>\n",
       "      <td>OUTSIDE</td>\n",
       "      <td>48</td>\n",
       "      <td>0.0</td>\n",
       "      <td>STREET</td>\n",
       "      <td>(null)</td>\n",
       "      <td>False</td>\n",
       "      <td>(null)</td>\n",
       "      <td>(null)</td>\n",
       "      <td>(null)</td>\n",
       "      <td>18-24</td>\n",
       "      <td>M</td>\n",
       "      <td>BLACK</td>\n",
       "    </tr>\n",
       "    <tr>\n",
       "      <th>27308</th>\n",
       "      <td>239583450</td>\n",
       "      <td>MANHATTAN</td>\n",
       "      <td>OUTSIDE</td>\n",
       "      <td>30</td>\n",
       "      <td>0.0</td>\n",
       "      <td>STREET</td>\n",
       "      <td>(null)</td>\n",
       "      <td>False</td>\n",
       "      <td>25-44</td>\n",
       "      <td>F</td>\n",
       "      <td>WHITE HISPANIC</td>\n",
       "      <td>25-44</td>\n",
       "      <td>M</td>\n",
       "      <td>WHITE HISPANIC</td>\n",
       "    </tr>\n",
       "    <tr>\n",
       "      <th>27309</th>\n",
       "      <td>246825728</td>\n",
       "      <td>MANHATTAN</td>\n",
       "      <td>OUTSIDE</td>\n",
       "      <td>32</td>\n",
       "      <td>0.0</td>\n",
       "      <td>STREET</td>\n",
       "      <td>(null)</td>\n",
       "      <td>False</td>\n",
       "      <td>18-24</td>\n",
       "      <td>M</td>\n",
       "      <td>BLACK</td>\n",
       "      <td>25-44</td>\n",
       "      <td>M</td>\n",
       "      <td>BLACK</td>\n",
       "    </tr>\n",
       "    <tr>\n",
       "      <th>27310</th>\n",
       "      <td>246876579</td>\n",
       "      <td>BRONX</td>\n",
       "      <td>INSIDE</td>\n",
       "      <td>46</td>\n",
       "      <td>2.0</td>\n",
       "      <td>HOUSING</td>\n",
       "      <td>MULTI DWELL - PUBLIC HOUS</td>\n",
       "      <td>False</td>\n",
       "      <td>25-44</td>\n",
       "      <td>M</td>\n",
       "      <td>BLACK</td>\n",
       "      <td>25-44</td>\n",
       "      <td>M</td>\n",
       "      <td>WHITE HISPANIC</td>\n",
       "    </tr>\n",
       "    <tr>\n",
       "      <th>27311</th>\n",
       "      <td>239861542</td>\n",
       "      <td>BRONX</td>\n",
       "      <td>OUTSIDE</td>\n",
       "      <td>45</td>\n",
       "      <td>0.0</td>\n",
       "      <td>STREET</td>\n",
       "      <td>(null)</td>\n",
       "      <td>False</td>\n",
       "      <td>18-24</td>\n",
       "      <td>M</td>\n",
       "      <td>BLACK</td>\n",
       "      <td>18-24</td>\n",
       "      <td>M</td>\n",
       "      <td>BLACK</td>\n",
       "    </tr>\n",
       "  </tbody>\n",
       "</table>\n",
       "<p>27312 rows × 14 columns</p>\n",
       "</div>"
      ],
      "text/plain": [
       "       INCIDENT_KEY       BORO LOC_OF_OCCUR_DESC  PRECINCT  JURISDICTION_CODE  \\\n",
       "0         228798151     QUEENS               NaN       105                0.0   \n",
       "1         137471050      BRONX               NaN        40                0.0   \n",
       "2         147998800     QUEENS               NaN       108                0.0   \n",
       "3         146837977      BRONX               NaN        44                0.0   \n",
       "4          58921844      BRONX               NaN        47                0.0   \n",
       "...             ...        ...               ...       ...                ...   \n",
       "27307     245029823      BRONX           OUTSIDE        48                0.0   \n",
       "27308     239583450  MANHATTAN           OUTSIDE        30                0.0   \n",
       "27309     246825728  MANHATTAN           OUTSIDE        32                0.0   \n",
       "27310     246876579      BRONX            INSIDE        46                2.0   \n",
       "27311     239861542      BRONX           OUTSIDE        45                0.0   \n",
       "\n",
       "      LOC_CLASSFCTN_DESC              LOCATION_DESC  STATISTICAL_MURDER_FLAG  \\\n",
       "0                    NaN                        NaN                    False   \n",
       "1                    NaN                        NaN                    False   \n",
       "2                    NaN                        NaN                     True   \n",
       "3                    NaN                        NaN                    False   \n",
       "4                    NaN                        NaN                     True   \n",
       "...                  ...                        ...                      ...   \n",
       "27307             STREET                     (null)                    False   \n",
       "27308             STREET                     (null)                    False   \n",
       "27309             STREET                     (null)                    False   \n",
       "27310            HOUSING  MULTI DWELL - PUBLIC HOUS                    False   \n",
       "27311             STREET                     (null)                    False   \n",
       "\n",
       "      PERP_AGE_GROUP PERP_SEX       PERP_RACE VIC_AGE_GROUP VIC_SEX  \\\n",
       "0                NaN      NaN             NaN         18-24       M   \n",
       "1                NaN      NaN             NaN         18-24       M   \n",
       "2                NaN      NaN             NaN         25-44       M   \n",
       "3                NaN      NaN             NaN           <18       M   \n",
       "4              25-44        M           BLACK         45-64       M   \n",
       "...              ...      ...             ...           ...     ...   \n",
       "27307         (null)   (null)          (null)         18-24       M   \n",
       "27308          25-44        F  WHITE HISPANIC         25-44       M   \n",
       "27309          18-24        M           BLACK         25-44       M   \n",
       "27310          25-44        M           BLACK         25-44       M   \n",
       "27311          18-24        M           BLACK         18-24       M   \n",
       "\n",
       "             VIC_RACE  \n",
       "0               BLACK  \n",
       "1               BLACK  \n",
       "2               WHITE  \n",
       "3      WHITE HISPANIC  \n",
       "4               BLACK  \n",
       "...               ...  \n",
       "27307           BLACK  \n",
       "27308  WHITE HISPANIC  \n",
       "27309           BLACK  \n",
       "27310  WHITE HISPANIC  \n",
       "27311           BLACK  \n",
       "\n",
       "[27312 rows x 14 columns]"
      ]
     },
     "execution_count": 5,
     "metadata": {},
     "output_type": "execute_result"
    }
   ],
   "source": [
    "nypd_df"
   ]
  },
  {
   "cell_type": "code",
   "execution_count": 7,
   "id": "523bf2aa",
   "metadata": {},
   "outputs": [
    {
     "data": {
      "text/plain": [
       "21420"
      ]
     },
     "execution_count": 7,
     "metadata": {},
     "output_type": "execute_result"
    }
   ],
   "source": [
    "nypd_df['INCIDENT_KEY'].nunique()"
   ]
  },
  {
   "cell_type": "code",
   "execution_count": 8,
   "id": "c6ecb912",
   "metadata": {},
   "outputs": [
    {
     "data": {
      "text/plain": [
       "173354054    18\n",
       "94424905     12\n",
       "33706902     12\n",
       "24717013     12\n",
       "212640102    12\n",
       "             ..\n",
       "25658628      1\n",
       "54474353      1\n",
       "61618854      1\n",
       "195700548     1\n",
       "239861542     1\n",
       "Name: INCIDENT_KEY, Length: 21420, dtype: int64"
      ]
     },
     "execution_count": 8,
     "metadata": {},
     "output_type": "execute_result"
    }
   ],
   "source": [
    "nypd_df['INCIDENT_KEY'].value_counts()"
   ]
  },
  {
   "cell_type": "code",
   "execution_count": 14,
   "id": "e05ccbdd",
   "metadata": {},
   "outputs": [],
   "source": [
    "nypd_df_unique = nypd_df.drop_duplicates(subset='INCIDENT_KEY')"
   ]
  },
  {
   "cell_type": "code",
   "execution_count": 15,
   "id": "96693cac",
   "metadata": {},
   "outputs": [],
   "source": [
    "nypd_df_unique.to_csv('Sample.csv', index=False)"
   ]
  },
  {
   "cell_type": "code",
   "execution_count": 16,
   "id": "348d4eea",
   "metadata": {},
   "outputs": [
    {
     "data": {
      "text/plain": [
       "Index(['INCIDENT_KEY', 'BORO', 'LOC_OF_OCCUR_DESC', 'PRECINCT',\n",
       "       'JURISDICTION_CODE', 'LOC_CLASSFCTN_DESC', 'LOCATION_DESC',\n",
       "       'STATISTICAL_MURDER_FLAG', 'PERP_AGE_GROUP', 'PERP_SEX', 'PERP_RACE',\n",
       "       'VIC_AGE_GROUP', 'VIC_SEX', 'VIC_RACE'],\n",
       "      dtype='object')"
      ]
     },
     "execution_count": 16,
     "metadata": {},
     "output_type": "execute_result"
    }
   ],
   "source": [
    "nypd_df.columns"
   ]
  },
  {
   "cell_type": "code",
   "execution_count": 17,
   "id": "4ccf2726",
   "metadata": {},
   "outputs": [
    {
     "name": "stdout",
     "output_type": "stream",
     "text": [
      "<class 'pandas.core.frame.DataFrame'>\n",
      "RangeIndex: 27312 entries, 0 to 27311\n",
      "Data columns (total 14 columns):\n",
      " #   Column                   Non-Null Count  Dtype  \n",
      "---  ------                   --------------  -----  \n",
      " 0   INCIDENT_KEY             27312 non-null  int64  \n",
      " 1   BORO                     27312 non-null  object \n",
      " 2   LOC_OF_OCCUR_DESC        1716 non-null   object \n",
      " 3   PRECINCT                 27312 non-null  int64  \n",
      " 4   JURISDICTION_CODE        27310 non-null  float64\n",
      " 5   LOC_CLASSFCTN_DESC       1716 non-null   object \n",
      " 6   LOCATION_DESC            12335 non-null  object \n",
      " 7   STATISTICAL_MURDER_FLAG  27312 non-null  bool   \n",
      " 8   PERP_AGE_GROUP           17968 non-null  object \n",
      " 9   PERP_SEX                 18002 non-null  object \n",
      " 10  PERP_RACE                18002 non-null  object \n",
      " 11  VIC_AGE_GROUP            27312 non-null  object \n",
      " 12  VIC_SEX                  27312 non-null  object \n",
      " 13  VIC_RACE                 27312 non-null  object \n",
      "dtypes: bool(1), float64(1), int64(2), object(10)\n",
      "memory usage: 2.7+ MB\n"
     ]
    }
   ],
   "source": [
    "nypd_df.info()"
   ]
  },
  {
   "cell_type": "code",
   "execution_count": 22,
   "id": "31d217a6",
   "metadata": {},
   "outputs": [],
   "source": [
    "dates_df = pd.read_csv('NYPD_date.csv')\n",
    "dates_df_unique = dates_df.drop_duplicates(subset='INCIDENT_KEY')\n",
    "dates_df_unique.to_csv('date.csv', index=False)"
   ]
  },
  {
   "cell_type": "code",
   "execution_count": 21,
   "id": "66cec5e7",
   "metadata": {},
   "outputs": [],
   "source": [
    "location_df = pd.read_csv('NYPD_geolocation.csv')\n",
    "location_df_unique = location_df.drop_duplicates(subset='INCIDENT_KEY')\n",
    "location_df_unique.to_csv('geolocation.csv', index=False)"
   ]
  },
  {
   "cell_type": "code",
   "execution_count": 67,
   "id": "231a1457",
   "metadata": {},
   "outputs": [],
   "source": [
    "df = pd.read_csv('geolocation.csv')"
   ]
  },
  {
   "cell_type": "code",
   "execution_count": 68,
   "id": "bbe0174d",
   "metadata": {},
   "outputs": [
    {
     "name": "stdout",
     "output_type": "stream",
     "text": [
      "<class 'pandas.core.frame.DataFrame'>\n",
      "RangeIndex: 21420 entries, 0 to 21419\n",
      "Data columns (total 6 columns):\n",
      " #   Column        Non-Null Count  Dtype  \n",
      "---  ------        --------------  -----  \n",
      " 0   INCIDENT_KEY  21420 non-null  int64  \n",
      " 1   X_COORD_CD    21420 non-null  float64\n",
      " 2   Y_COORD_CD    21420 non-null  float64\n",
      " 3   Latitude      21411 non-null  float64\n",
      " 4   Longitude     21411 non-null  float64\n",
      " 5   Lon_Lat       21411 non-null  object \n",
      "dtypes: float64(4), int64(1), object(1)\n",
      "memory usage: 1004.2+ KB\n"
     ]
    }
   ],
   "source": [
    "df.info()"
   ]
  },
  {
   "cell_type": "code",
   "execution_count": 69,
   "id": "a18e32a4",
   "metadata": {},
   "outputs": [
    {
     "data": {
      "text/plain": [
       "45.0"
      ]
     },
     "execution_count": 69,
     "metadata": {},
     "output_type": "execute_result"
    }
   ],
   "source": [
    "import numpy as np\n",
    "np.max(df['Lon_Lat'].str.len())"
   ]
  },
  {
   "cell_type": "code",
   "execution_count": 70,
   "id": "34e12eea",
   "metadata": {},
   "outputs": [
    {
     "data": {
      "text/plain": [
       "Index(['INCIDENT_KEY', 'X_COORD_CD', 'Y_COORD_CD', 'Latitude', 'Longitude',\n",
       "       'Lon_Lat'],\n",
       "      dtype='object')"
      ]
     },
     "execution_count": 70,
     "metadata": {},
     "output_type": "execute_result"
    }
   ],
   "source": [
    "df.columns"
   ]
  },
  {
   "cell_type": "code",
   "execution_count": 71,
   "id": "ff0f3628",
   "metadata": {},
   "outputs": [
    {
     "data": {
      "text/plain": [
       "INCIDENT_KEY    0\n",
       "X_COORD_CD      0\n",
       "Y_COORD_CD      0\n",
       "Latitude        9\n",
       "Longitude       9\n",
       "Lon_Lat         9\n",
       "dtype: int64"
      ]
     },
     "execution_count": 71,
     "metadata": {},
     "output_type": "execute_result"
    }
   ],
   "source": [
    "df.isnull().sum()"
   ]
  },
  {
   "cell_type": "code",
   "execution_count": 72,
   "id": "15c981d1",
   "metadata": {},
   "outputs": [],
   "source": [
    "columns_to_fill = ['Latitude', 'Longitude',\n",
    "       'Lon_Lat']"
   ]
  },
  {
   "cell_type": "code",
   "execution_count": 73,
   "id": "55ed588e",
   "metadata": {},
   "outputs": [],
   "source": [
    "for col in columns_to_fill:\n",
    "    df[col] = df[col].fillna(df[col].mode()[0])"
   ]
  },
  {
   "cell_type": "code",
   "execution_count": 66,
   "id": "c03da9dc",
   "metadata": {},
   "outputs": [],
   "source": [
    "# df['Lon_Lat'] = df['Lon_Lat'].astype(str)"
   ]
  },
  {
   "cell_type": "code",
   "execution_count": 74,
   "id": "79777af5",
   "metadata": {},
   "outputs": [
    {
     "name": "stdout",
     "output_type": "stream",
     "text": [
      "<class 'pandas.core.frame.DataFrame'>\n",
      "RangeIndex: 21420 entries, 0 to 21419\n",
      "Data columns (total 6 columns):\n",
      " #   Column        Non-Null Count  Dtype  \n",
      "---  ------        --------------  -----  \n",
      " 0   INCIDENT_KEY  21420 non-null  int64  \n",
      " 1   X_COORD_CD    21420 non-null  float64\n",
      " 2   Y_COORD_CD    21420 non-null  float64\n",
      " 3   Latitude      21420 non-null  float64\n",
      " 4   Longitude     21420 non-null  float64\n",
      " 5   Lon_Lat       21420 non-null  object \n",
      "dtypes: float64(4), int64(1), object(1)\n",
      "memory usage: 1004.2+ KB\n"
     ]
    }
   ],
   "source": [
    "df.info()"
   ]
  },
  {
   "cell_type": "code",
   "execution_count": 75,
   "id": "9d1a9bc6",
   "metadata": {},
   "outputs": [
    {
     "data": {
      "text/plain": [
       "'POINT (-73.88151014499994 40.67141260500006)'"
      ]
     },
     "execution_count": 75,
     "metadata": {},
     "output_type": "execute_result"
    }
   ],
   "source": [
    "df[col].mode()[0]"
   ]
  },
  {
   "cell_type": "code",
   "execution_count": 57,
   "id": "2cf9791a",
   "metadata": {},
   "outputs": [],
   "source": [
    "df.to_csv('test.csv', index=False)"
   ]
  },
  {
   "cell_type": "code",
   "execution_count": 58,
   "id": "27c97c0c",
   "metadata": {},
   "outputs": [
    {
     "data": {
      "text/html": [
       "<div>\n",
       "<style scoped>\n",
       "    .dataframe tbody tr th:only-of-type {\n",
       "        vertical-align: middle;\n",
       "    }\n",
       "\n",
       "    .dataframe tbody tr th {\n",
       "        vertical-align: top;\n",
       "    }\n",
       "\n",
       "    .dataframe thead th {\n",
       "        text-align: right;\n",
       "    }\n",
       "</style>\n",
       "<table border=\"1\" class=\"dataframe\">\n",
       "  <thead>\n",
       "    <tr style=\"text-align: right;\">\n",
       "      <th></th>\n",
       "      <th>INCIDENT_KEY</th>\n",
       "      <th>X_COORD_CD</th>\n",
       "      <th>Y_COORD_CD</th>\n",
       "      <th>Latitude</th>\n",
       "      <th>Longitude</th>\n",
       "      <th>Lon_Lat</th>\n",
       "    </tr>\n",
       "  </thead>\n",
       "  <tbody>\n",
       "    <tr>\n",
       "      <th>0</th>\n",
       "      <td>228798151</td>\n",
       "      <td>1.058925e+06</td>\n",
       "      <td>180924.000000</td>\n",
       "      <td>40.662965</td>\n",
       "      <td>-73.730839</td>\n",
       "      <td>POINT (-73.73083868899994 40.662964620000025)</td>\n",
       "    </tr>\n",
       "    <tr>\n",
       "      <th>1</th>\n",
       "      <td>137471050</td>\n",
       "      <td>1.005028e+06</td>\n",
       "      <td>234516.000000</td>\n",
       "      <td>40.810352</td>\n",
       "      <td>-73.924942</td>\n",
       "      <td>POINT (-73.92494232599995 40.81035186300006)</td>\n",
       "    </tr>\n",
       "    <tr>\n",
       "      <th>2</th>\n",
       "      <td>147998800</td>\n",
       "      <td>1.007668e+06</td>\n",
       "      <td>209836.531250</td>\n",
       "      <td>40.742607</td>\n",
       "      <td>-73.915492</td>\n",
       "      <td>POINT (-73.91549174199997 40.74260663300004)</td>\n",
       "    </tr>\n",
       "    <tr>\n",
       "      <th>3</th>\n",
       "      <td>146837977</td>\n",
       "      <td>1.006537e+06</td>\n",
       "      <td>244511.140625</td>\n",
       "      <td>40.837782</td>\n",
       "      <td>-73.919457</td>\n",
       "      <td>POINT (-73.91945661499994 40.83778200300003)</td>\n",
       "    </tr>\n",
       "    <tr>\n",
       "      <th>4</th>\n",
       "      <td>58921844</td>\n",
       "      <td>1.024922e+06</td>\n",
       "      <td>262189.406250</td>\n",
       "      <td>40.886238</td>\n",
       "      <td>-73.852910</td>\n",
       "      <td>POINT (-73.85290950899997 40.88623791800006)</td>\n",
       "    </tr>\n",
       "    <tr>\n",
       "      <th>...</th>\n",
       "      <td>...</td>\n",
       "      <td>...</td>\n",
       "      <td>...</td>\n",
       "      <td>...</td>\n",
       "      <td>...</td>\n",
       "      <td>...</td>\n",
       "    </tr>\n",
       "    <tr>\n",
       "      <th>21415</th>\n",
       "      <td>244169758</td>\n",
       "      <td>1.008690e+06</td>\n",
       "      <td>238862.000000</td>\n",
       "      <td>40.822271</td>\n",
       "      <td>-73.911698</td>\n",
       "      <td>POINT (-73.911697780277 40.8222710411331)</td>\n",
       "    </tr>\n",
       "    <tr>\n",
       "      <th>21416</th>\n",
       "      <td>249978889</td>\n",
       "      <td>9.919120e+05</td>\n",
       "      <td>191839.000000</td>\n",
       "      <td>40.693229</td>\n",
       "      <td>-73.972367</td>\n",
       "      <td>POINT (-73.972367 40.693229)</td>\n",
       "    </tr>\n",
       "    <tr>\n",
       "      <th>21417</th>\n",
       "      <td>246999028</td>\n",
       "      <td>1.015533e+06</td>\n",
       "      <td>238047.000000</td>\n",
       "      <td>40.820006</td>\n",
       "      <td>-73.886973</td>\n",
       "      <td>POINT (-73.886973 40.820006)</td>\n",
       "    </tr>\n",
       "    <tr>\n",
       "      <th>21418</th>\n",
       "      <td>246825728</td>\n",
       "      <td>1.000999e+06</td>\n",
       "      <td>234464.000000</td>\n",
       "      <td>40.810209</td>\n",
       "      <td>-73.939496</td>\n",
       "      <td>POINT (-73.9394955 40.81020941)</td>\n",
       "    </tr>\n",
       "    <tr>\n",
       "      <th>21419</th>\n",
       "      <td>239861542</td>\n",
       "      <td>1.026549e+06</td>\n",
       "      <td>244293.000000</td>\n",
       "      <td>40.837102</td>\n",
       "      <td>-73.847134</td>\n",
       "      <td>POINT (-73.847134 40.837102)</td>\n",
       "    </tr>\n",
       "  </tbody>\n",
       "</table>\n",
       "<p>21420 rows × 6 columns</p>\n",
       "</div>"
      ],
      "text/plain": [
       "       INCIDENT_KEY    X_COORD_CD     Y_COORD_CD   Latitude  Longitude  \\\n",
       "0         228798151  1.058925e+06  180924.000000  40.662965 -73.730839   \n",
       "1         137471050  1.005028e+06  234516.000000  40.810352 -73.924942   \n",
       "2         147998800  1.007668e+06  209836.531250  40.742607 -73.915492   \n",
       "3         146837977  1.006537e+06  244511.140625  40.837782 -73.919457   \n",
       "4          58921844  1.024922e+06  262189.406250  40.886238 -73.852910   \n",
       "...             ...           ...            ...        ...        ...   \n",
       "21415     244169758  1.008690e+06  238862.000000  40.822271 -73.911698   \n",
       "21416     249978889  9.919120e+05  191839.000000  40.693229 -73.972367   \n",
       "21417     246999028  1.015533e+06  238047.000000  40.820006 -73.886973   \n",
       "21418     246825728  1.000999e+06  234464.000000  40.810209 -73.939496   \n",
       "21419     239861542  1.026549e+06  244293.000000  40.837102 -73.847134   \n",
       "\n",
       "                                             Lon_Lat  \n",
       "0      POINT (-73.73083868899994 40.662964620000025)  \n",
       "1       POINT (-73.92494232599995 40.81035186300006)  \n",
       "2       POINT (-73.91549174199997 40.74260663300004)  \n",
       "3       POINT (-73.91945661499994 40.83778200300003)  \n",
       "4       POINT (-73.85290950899997 40.88623791800006)  \n",
       "...                                              ...  \n",
       "21415      POINT (-73.911697780277 40.8222710411331)  \n",
       "21416                   POINT (-73.972367 40.693229)  \n",
       "21417                   POINT (-73.886973 40.820006)  \n",
       "21418                POINT (-73.9394955 40.81020941)  \n",
       "21419                   POINT (-73.847134 40.837102)  \n",
       "\n",
       "[21420 rows x 6 columns]"
      ]
     },
     "execution_count": 58,
     "metadata": {},
     "output_type": "execute_result"
    }
   ],
   "source": [
    "pd.read_csv('test.csv')"
   ]
  },
  {
   "cell_type": "code",
   "execution_count": null,
   "id": "5f24a43b",
   "metadata": {},
   "outputs": [],
   "source": []
  }
 ],
 "metadata": {
  "kernelspec": {
   "display_name": "Python 3 (ipykernel)",
   "language": "python",
   "name": "python3"
  },
  "language_info": {
   "codemirror_mode": {
    "name": "ipython",
    "version": 3
   },
   "file_extension": ".py",
   "mimetype": "text/x-python",
   "name": "python",
   "nbconvert_exporter": "python",
   "pygments_lexer": "ipython3",
   "version": "3.9.13"
  }
 },
 "nbformat": 4,
 "nbformat_minor": 5
}
